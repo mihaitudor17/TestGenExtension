{
 "cells": [
  {
   "cell_type": "code",
   "execution_count": 1,
   "id": "b85ab781-5761-4914-b52f-99e9f7e94aef",
   "metadata": {},
   "outputs": [],
   "source": [
    "from fastapi import FastAPI, HTTPException\n",
    "from pydantic import BaseModel\n",
    "from transformers import AutoTokenizer, AutoModelForSeq2SeqLM\n",
    "import logging\n",
    "\n",
    "app = FastAPI()\n",
    "\n",
    "class GenerationRequest(BaseModel):\n",
    "    inputs: list[str]\n",
    "\n",
    "best_model_dir = \"./best_model\"\n",
    "tokenizer = AutoTokenizer.from_pretrained(best_model_dir)\n",
    "model = AutoModelForSeq2SeqLM.from_pretrained(best_model_dir)\n",
    "\n",
    "@app.post(\"/generate\")\n",
    "def generate_code(req: GenerationRequest):\n",
    "    try:\n",
    "        inputs = tokenizer(req.inputs, max_length=128, truncation=True, padding=\"max_length\", return_tensors=\"pt\")\n",
    "        outputs = model.generate(\n",
    "            input_ids=inputs[\"input_ids\"],\n",
    "            attention_mask=inputs[\"attention_mask\"],\n",
    "            max_length=256,\n",
    "            num_beams=5,\n",
    "            early_stopping=True\n",
    "        )\n",
    "        predicted_texts = tokenizer.batch_decode(outputs, skip_special_tokens=True)\n",
    "        return {\"outputs\": predicted_texts}\n",
    "    except Exception as e:\n",
    "        logging.error(f\"Generation error: {e}\")\n",
    "        raise HTTPException(status_code=500, detail=\"Internal server error\")\n"
   ]
  },
  {
   "cell_type": "code",
   "execution_count": null,
   "id": "da9aae0d-1aa4-4ee0-a0e9-ebf7f5f204bc",
   "metadata": {},
   "outputs": [],
   "source": []
  }
 ],
 "metadata": {
  "kernelspec": {
   "display_name": "Python 3 (ipykernel)",
   "language": "python",
   "name": "python3"
  },
  "language_info": {
   "codemirror_mode": {
    "name": "ipython",
    "version": 3
   },
   "file_extension": ".py",
   "mimetype": "text/x-python",
   "name": "python",
   "nbconvert_exporter": "python",
   "pygments_lexer": "ipython3",
   "version": "3.10.12"
  }
 },
 "nbformat": 4,
 "nbformat_minor": 5
}
