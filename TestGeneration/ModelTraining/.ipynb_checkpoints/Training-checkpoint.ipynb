{
 "cells": [
  {
   "cell_type": "code",
   "execution_count": 1,
   "id": "881f9509-d2b3-432b-9ca4-d3c025e974d6",
   "metadata": {},
   "outputs": [
    {
     "data": {
      "text/plain": [
       "[{'AttributeText': 'Given(\"Returns a Task\")',\n",
       "  'MethodSignature': 'ReturnsATask()',\n",
       "  'MethodBody': '{\\n            throw new NotSupportedException(\"should be mocked\");\\n        }',\n",
       "  'SourceFile': '/tmp/repos_56e52f16-5434-4b1d-a1e1-219bacac2163/reqnroll_Reqnroll/Tests/Reqnroll.RuntimeTests/StepExecutionTests.cs'},\n",
       " {'AttributeText': 'Then(\"SpecificBindingRegistryTests\")',\n",
       "  'MethodSignature': 'Transform(string val)',\n",
       "  'MethodBody': '{\\n                return 42;\\n            }',\n",
       "  'SourceFile': '/tmp/repos_56e52f16-5434-4b1d-a1e1-219bacac2163/reqnroll_Reqnroll/Tests/Reqnroll.RuntimeTests/RuntimeBindingRegistryBuilderTests.cs'},\n",
       " {'AttributeText': 'Then(\"SpecificBindingRegistryTests\")',\n",
       "  'MethodSignature': 'Transform(string val)',\n",
       "  'MethodBody': '{\\n                return 24;\\n            }',\n",
       "  'SourceFile': '/tmp/repos_56e52f16-5434-4b1d-a1e1-219bacac2163/reqnroll_Reqnroll/Tests/Reqnroll.RuntimeTests/RuntimeBindingRegistryBuilderTests.cs'}]"
      ]
     },
     "execution_count": 1,
     "metadata": {},
     "output_type": "execute_result"
    }
   ],
   "source": [
    "import json\n",
    "\n",
    "with open(\"step_definitions.json\", \"r\") as f:\n",
    "    data = json.load(f)\n",
    "\n",
    "data[:3]\n"
   ]
  },
  {
   "cell_type": "code",
   "execution_count": 4,
   "id": "28cc1793-aff4-4435-8c85-dda443da31f7",
   "metadata": {},
   "outputs": [
    {
     "name": "stderr",
     "output_type": "stream",
     "text": [
      "huggingface/tokenizers: The current process just got forked, after parallelism has already been used. Disabling parallelism to avoid deadlocks...\n",
      "To disable this warning, you can either:\n",
      "\t- Avoid using `tokenizers` before the fork if possible\n",
      "\t- Explicitly set the environment variable TOKENIZERS_PARALLELISM=(true | false)\n"
     ]
    },
    {
     "data": {
      "application/vnd.jupyter.widget-view+json": {
       "model_id": "68f693a905e446f18af8b4dd44826422",
       "version_major": 2,
       "version_minor": 0
      },
      "text/plain": [
       "Map:   0%|          | 0/14383 [00:00<?, ? examples/s]"
      ]
     },
     "metadata": {},
     "output_type": "display_data"
    },
    {
     "data": {
      "application/vnd.jupyter.widget-view+json": {
       "model_id": "b271d935bd0e428c83d9055c6f916c34",
       "version_major": 2,
       "version_minor": 0
      },
      "text/plain": [
       "Map:   0%|          | 0/1599 [00:00<?, ? examples/s]"
      ]
     },
     "metadata": {},
     "output_type": "display_data"
    },
    {
     "name": "stderr",
     "output_type": "stream",
     "text": [
      "/tmp/ipykernel_33394/4253880575.py:68: FutureWarning: `tokenizer` is deprecated and will be removed in version 5.0.0 for `Trainer.__init__`. Use `processing_class` instead.\n",
      "  trainer = Trainer(\n"
     ]
    },
    {
     "data": {
      "text/html": [
       "\n",
       "    <div>\n",
       "      \n",
       "      <progress value='7192' max='7192' style='width:300px; height:20px; vertical-align: middle;'></progress>\n",
       "      [7192/7192 16:07, Epoch 4/4]\n",
       "    </div>\n",
       "    <table border=\"1\" class=\"dataframe\">\n",
       "  <thead>\n",
       " <tr style=\"text-align: left;\">\n",
       "      <th>Epoch</th>\n",
       "      <th>Training Loss</th>\n",
       "      <th>Validation Loss</th>\n",
       "    </tr>\n",
       "  </thead>\n",
       "  <tbody>\n",
       "    <tr>\n",
       "      <td>1</td>\n",
       "      <td>0.319000</td>\n",
       "      <td>0.340659</td>\n",
       "    </tr>\n",
       "    <tr>\n",
       "      <td>2</td>\n",
       "      <td>0.333300</td>\n",
       "      <td>0.300148</td>\n",
       "    </tr>\n",
       "    <tr>\n",
       "      <td>3</td>\n",
       "      <td>0.295700</td>\n",
       "      <td>0.282697</td>\n",
       "    </tr>\n",
       "    <tr>\n",
       "      <td>4</td>\n",
       "      <td>0.226200</td>\n",
       "      <td>0.277155</td>\n",
       "    </tr>\n",
       "  </tbody>\n",
       "</table><p>"
      ],
      "text/plain": [
       "<IPython.core.display.HTML object>"
      ]
     },
     "metadata": {},
     "output_type": "display_data"
    },
    {
     "name": "stderr",
     "output_type": "stream",
     "text": [
      "There were missing keys in the checkpoint model loaded: ['encoder.embed_tokens.weight', 'decoder.embed_tokens.weight', 'lm_head.weight'].\n"
     ]
    },
    {
     "name": "stdout",
     "output_type": "stream",
     "text": [
      "Input: Given I have a logged in user\n",
      "Generated output:\n",
      "GivenIHaveALoggedInUser()\n",
      "{\n",
      "            //Create an instance for the HomePage\n",
      "            HomePage homePage = new HomePage(driver);\n",
      "\n",
      "            homePage.Login();\n",
      "        }\n",
      "\n",
      "Input: When I click the submit button\n",
      "Generated output:\n",
      "WhenIClickTheSubmitButton()\n",
      "{\n",
      "            _submitPage.ClickSubmitButton();\n",
      "        }\n",
      "\n"
     ]
    }
   ],
   "source": [
    "!pip install transformers datasets scikit-learn --quiet\n",
    "\n",
    "import json\n",
    "from datasets import Dataset\n",
    "from transformers import AutoTokenizer, AutoModelForSeq2SeqLM, TrainingArguments, Trainer\n",
    "from sklearn.model_selection import train_test_split\n",
    "\n",
    "with open(\"step_definitions.json\", \"r\") as f:\n",
    "    raw_data = json.load(f)\n",
    "\n",
    "pairs = []\n",
    "for item in raw_data:\n",
    "    input_text = item[\"AttributeText\"]\n",
    "    output_text = item[\"MethodSignature\"] + \"\\n\" + item[\"MethodBody\"]\n",
    "    pairs.append({\"input\": input_text, \"output\": output_text})\n",
    "\n",
    "train_data, eval_data = train_test_split(pairs, test_size=0.1, random_state=42)\n",
    "\n",
    "train_dataset = Dataset.from_list(train_data)\n",
    "eval_dataset = Dataset.from_list(eval_data)\n",
    "\n",
    "model_name = \"Salesforce/codet5-small\"\n",
    "tokenizer = AutoTokenizer.from_pretrained(model_name)\n",
    "\n",
    "def tokenize_function(example):\n",
    "    model_inputs = tokenizer(example[\"input\"], max_length=128, truncation=True, padding=\"max_length\")\n",
    "    labels = tokenizer(example[\"output\"], max_length=256, truncation=True, padding=\"max_length\")\n",
    "    model_inputs[\"labels\"] = labels[\"input_ids\"]\n",
    "    return model_inputs\n",
    "\n",
    "tokenized_train = train_dataset.map(tokenize_function, batched=False)\n",
    "tokenized_eval = eval_dataset.map(tokenize_function, batched=False)\n",
    "\n",
    "model = AutoModelForSeq2SeqLM.from_pretrained(model_name)\n",
    "\n",
    "training_args = TrainingArguments(\n",
    "    output_dir=\"./model_output\",\n",
    "    per_device_train_batch_size=8,\n",
    "    per_device_eval_batch_size=8,\n",
    "    eval_strategy=\"epoch\",\n",
    "    save_strategy=\"epoch\",\n",
    "    num_train_epochs=4,\n",
    "    weight_decay=0.01,\n",
    "    logging_dir=\"./logs\",\n",
    "    logging_steps=10,\n",
    "    report_to=\"none\",\n",
    "    load_best_model_at_end=True,\n",
    "    metric_for_best_model=\"eval_loss\"\n",
    ")\n",
    "\n",
    "def compute_metrics(eval_preds):\n",
    "    from datasets import load_metric\n",
    "    import numpy as np\n",
    "    metric = load_metric(\"accuracy\")\n",
    "    preds, labels = eval_preds\n",
    "    preds = np.argmax(preds, axis=1)\n",
    "    return metric.compute(predictions=preds, references=labels)\n",
    "\n",
    "trainer = Trainer(\n",
    "    model=model,\n",
    "    args=training_args,\n",
    "    train_dataset=tokenized_train,\n",
    "    eval_dataset=tokenized_eval,\n",
    "    tokenizer=tokenizer\n",
    ")\n",
    "\n",
    "trainer.train()\n",
    "\n",
    "best_model_dir = \"./best_model\"\n",
    "trainer.save_model(best_model_dir)\n",
    "tokenizer.save_pretrained(best_model_dir)\n"
   ]
  },
  {
   "cell_type": "code",
   "execution_count": 6,
   "id": "269f49fb-20cb-40ab-9171-64d231a68ede",
   "metadata": {},
   "outputs": [
    {
     "name": "stdout",
     "output_type": "stream",
     "text": [
      "Input: Given I log in as user\n",
      "Generated output:\n",
      "GivenILogInAsUser()\n",
      "{\n",
      "            loginPage.Login();\n",
      "        }\n",
      "\n",
      "Input: When I click the submit button\n",
      "Generated output:\n",
      "WhenIClickTheSubmitButton()\n",
      "{\n",
      "            _submitPage.ClickSubmitButton();\n",
      "        }\n",
      "\n"
     ]
    }
   ],
   "source": [
    "from transformers import AutoTokenizer, AutoModelForSeq2SeqLM\n",
    "\n",
    "tokenizer = AutoTokenizer.from_pretrained(best_model_dir)\n",
    "model = AutoModelForSeq2SeqLM.from_pretrained(best_model_dir)\n",
    "\n",
    "test_inputs = [\n",
    "    \"Given I log in as user\",\n",
    "    \"When I click the submit button\"\n",
    "]\n",
    "\n",
    "inputs = tokenizer(test_inputs, max_length=128, truncation=True, padding=\"max_length\", return_tensors=\"pt\")\n",
    "\n",
    "outputs = model.generate(\n",
    "    input_ids=inputs[\"input_ids\"],\n",
    "    attention_mask=inputs[\"attention_mask\"],\n",
    "    max_length=256,\n",
    "    num_beams=5,\n",
    "    early_stopping=True\n",
    ")\n",
    "\n",
    "predicted_texts = tokenizer.batch_decode(outputs, skip_special_tokens=True)\n",
    "\n",
    "for i, prediction in enumerate(predicted_texts):\n",
    "    print(f\"Input: {test_inputs[i]}\")\n",
    "    print(f\"Generated output:\\n{prediction}\\n\")\n"
   ]
  }
 ],
 "metadata": {
  "kernelspec": {
   "display_name": "Python 3 (ipykernel)",
   "language": "python",
   "name": "python3"
  },
  "language_info": {
   "codemirror_mode": {
    "name": "ipython",
    "version": 3
   },
   "file_extension": ".py",
   "mimetype": "text/x-python",
   "name": "python",
   "nbconvert_exporter": "python",
   "pygments_lexer": "ipython3",
   "version": "3.11.9"
  }
 },
 "nbformat": 4,
 "nbformat_minor": 5
}
